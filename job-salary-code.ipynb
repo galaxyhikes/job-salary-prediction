{
 "cells": [
  {
   "cell_type": "markdown",
   "metadata": {},
   "source": [
    "### Load necessary libraries",
    "Data source: https://www.kaggle.com/competitions/job-salary-prediction"
   ]
  },
  {
   "cell_type": "code",
   "execution_count": 33,
   "metadata": {},
   "outputs": [
    {
     "name": "stderr",
     "output_type": "stream",
     "text": [
      "[nltk_data] Downloading package stopwords to\n",
      "[nltk_data]     /Users/jiajue/nltk_data...\n",
      "[nltk_data]   Package stopwords is already up-to-date!\n",
      "[nltk_data] Downloading package punkt to /Users/jiajue/nltk_data...\n",
      "[nltk_data]   Package punkt is already up-to-date!\n",
      "[nltk_data] Downloading package punkt_tab to\n",
      "[nltk_data]     /Users/jiajue/nltk_data...\n",
      "[nltk_data]   Package punkt_tab is already up-to-date!\n",
      "[nltk_data] Downloading package wordnet to /Users/jiajue/nltk_data...\n",
      "[nltk_data]   Package wordnet is already up-to-date!\n"
     ]
    },
    {
     "data": {
      "text/plain": [
       "True"
      ]
     },
     "execution_count": 33,
     "metadata": {},
     "output_type": "execute_result"
    }
   ],
   "source": [
    "import pandas as pd\n",
    "import numpy as np\n",
    "import matplotlib.pyplot as plt\n",
    "from sklearn.model_selection import train_test_split\n",
    "import re\n",
    "from collections import Counter\n",
    "import nltk\n",
    "from nltk.corpus import stopwords\n",
    "\n",
    "from sklearn.neighbors import KNeighborsClassifier\n",
    "from sklearn.feature_extraction.text import TfidfVectorizer\n",
    "import seaborn as sns\n",
    "from nltk.tokenize import word_tokenize\n",
    "from nltk.stem import WordNetLemmatizer\n",
    "from sklearn.svm import SVC\n",
    "from sklearn.naive_bayes import MultinomialNB\n",
    "from sklearn.ensemble import RandomForestClassifier\n",
    "from sklearn.model_selection import GridSearchCV, RandomizedSearchCV\n",
    "from sklearn.metrics import accuracy_score, classification_report, confusion_matrix\n",
    "\n",
    "nltk.download('stopwords')\n",
    "nltk.download('punkt')\n",
    "nltk.download('punkt_tab')\n",
    "nltk.download('wordnet')"
   ]
  },
  {
   "cell_type": "code",
   "execution_count": 3,
   "metadata": {},
   "outputs": [
    {
     "data": {
      "text/html": [
       "<div>\n",
       "<style scoped>\n",
       "    .dataframe tbody tr th:only-of-type {\n",
       "        vertical-align: middle;\n",
       "    }\n",
       "\n",
       "    .dataframe tbody tr th {\n",
       "        vertical-align: top;\n",
       "    }\n",
       "\n",
       "    .dataframe thead th {\n",
       "        text-align: right;\n",
       "    }\n",
       "</style>\n",
       "<table border=\"1\" class=\"dataframe\">\n",
       "  <thead>\n",
       "    <tr style=\"text-align: right;\">\n",
       "      <th></th>\n",
       "      <th>Id</th>\n",
       "      <th>Title</th>\n",
       "      <th>FullDescription</th>\n",
       "      <th>LocationRaw</th>\n",
       "      <th>LocationNormalized</th>\n",
       "      <th>ContractType</th>\n",
       "      <th>ContractTime</th>\n",
       "      <th>Company</th>\n",
       "      <th>Category</th>\n",
       "      <th>SalaryRaw</th>\n",
       "      <th>SalaryNormalized</th>\n",
       "      <th>SourceName</th>\n",
       "    </tr>\n",
       "  </thead>\n",
       "  <tbody>\n",
       "    <tr>\n",
       "      <th>0</th>\n",
       "      <td>12612628</td>\n",
       "      <td>Engineering Systems Analyst</td>\n",
       "      <td>Engineering Systems Analyst Dorking Surrey Sal...</td>\n",
       "      <td>Dorking, Surrey, Surrey</td>\n",
       "      <td>Dorking</td>\n",
       "      <td>NaN</td>\n",
       "      <td>permanent</td>\n",
       "      <td>Gregory Martin International</td>\n",
       "      <td>Engineering Jobs</td>\n",
       "      <td>20000 - 30000/annum 20-30K</td>\n",
       "      <td>25000</td>\n",
       "      <td>cv-library.co.uk</td>\n",
       "    </tr>\n",
       "    <tr>\n",
       "      <th>1</th>\n",
       "      <td>12612830</td>\n",
       "      <td>Stress Engineer Glasgow</td>\n",
       "      <td>Stress Engineer Glasgow Salary **** to **** We...</td>\n",
       "      <td>Glasgow, Scotland, Scotland</td>\n",
       "      <td>Glasgow</td>\n",
       "      <td>NaN</td>\n",
       "      <td>permanent</td>\n",
       "      <td>Gregory Martin International</td>\n",
       "      <td>Engineering Jobs</td>\n",
       "      <td>25000 - 35000/annum 25-35K</td>\n",
       "      <td>30000</td>\n",
       "      <td>cv-library.co.uk</td>\n",
       "    </tr>\n",
       "    <tr>\n",
       "      <th>2</th>\n",
       "      <td>12612844</td>\n",
       "      <td>Modelling and simulation analyst</td>\n",
       "      <td>Mathematical Modeller / Simulation Analyst / O...</td>\n",
       "      <td>Hampshire, South East, South East</td>\n",
       "      <td>Hampshire</td>\n",
       "      <td>NaN</td>\n",
       "      <td>permanent</td>\n",
       "      <td>Gregory Martin International</td>\n",
       "      <td>Engineering Jobs</td>\n",
       "      <td>20000 - 40000/annum 20-40K</td>\n",
       "      <td>30000</td>\n",
       "      <td>cv-library.co.uk</td>\n",
       "    </tr>\n",
       "    <tr>\n",
       "      <th>3</th>\n",
       "      <td>12613049</td>\n",
       "      <td>Engineering Systems Analyst / Mathematical Mod...</td>\n",
       "      <td>Engineering Systems Analyst / Mathematical Mod...</td>\n",
       "      <td>Surrey, South East, South East</td>\n",
       "      <td>Surrey</td>\n",
       "      <td>NaN</td>\n",
       "      <td>permanent</td>\n",
       "      <td>Gregory Martin International</td>\n",
       "      <td>Engineering Jobs</td>\n",
       "      <td>25000 - 30000/annum 25K-30K negotiable</td>\n",
       "      <td>27500</td>\n",
       "      <td>cv-library.co.uk</td>\n",
       "    </tr>\n",
       "    <tr>\n",
       "      <th>4</th>\n",
       "      <td>12613647</td>\n",
       "      <td>Pioneer, Miser Engineering Systems Analyst</td>\n",
       "      <td>Pioneer, Miser  Engineering Systems Analyst Do...</td>\n",
       "      <td>Surrey, South East, South East</td>\n",
       "      <td>Surrey</td>\n",
       "      <td>NaN</td>\n",
       "      <td>permanent</td>\n",
       "      <td>Gregory Martin International</td>\n",
       "      <td>Engineering Jobs</td>\n",
       "      <td>20000 - 30000/annum 20-30K</td>\n",
       "      <td>25000</td>\n",
       "      <td>cv-library.co.uk</td>\n",
       "    </tr>\n",
       "  </tbody>\n",
       "</table>\n",
       "</div>"
      ],
      "text/plain": [
       "         Id                                              Title  \\\n",
       "0  12612628                        Engineering Systems Analyst   \n",
       "1  12612830                            Stress Engineer Glasgow   \n",
       "2  12612844                   Modelling and simulation analyst   \n",
       "3  12613049  Engineering Systems Analyst / Mathematical Mod...   \n",
       "4  12613647         Pioneer, Miser Engineering Systems Analyst   \n",
       "\n",
       "                                     FullDescription  \\\n",
       "0  Engineering Systems Analyst Dorking Surrey Sal...   \n",
       "1  Stress Engineer Glasgow Salary **** to **** We...   \n",
       "2  Mathematical Modeller / Simulation Analyst / O...   \n",
       "3  Engineering Systems Analyst / Mathematical Mod...   \n",
       "4  Pioneer, Miser  Engineering Systems Analyst Do...   \n",
       "\n",
       "                         LocationRaw LocationNormalized ContractType  \\\n",
       "0            Dorking, Surrey, Surrey            Dorking          NaN   \n",
       "1        Glasgow, Scotland, Scotland            Glasgow          NaN   \n",
       "2  Hampshire, South East, South East          Hampshire          NaN   \n",
       "3     Surrey, South East, South East             Surrey          NaN   \n",
       "4     Surrey, South East, South East             Surrey          NaN   \n",
       "\n",
       "  ContractTime                       Company          Category  \\\n",
       "0    permanent  Gregory Martin International  Engineering Jobs   \n",
       "1    permanent  Gregory Martin International  Engineering Jobs   \n",
       "2    permanent  Gregory Martin International  Engineering Jobs   \n",
       "3    permanent  Gregory Martin International  Engineering Jobs   \n",
       "4    permanent  Gregory Martin International  Engineering Jobs   \n",
       "\n",
       "                                SalaryRaw  SalaryNormalized        SourceName  \n",
       "0              20000 - 30000/annum 20-30K             25000  cv-library.co.uk  \n",
       "1              25000 - 35000/annum 25-35K             30000  cv-library.co.uk  \n",
       "2              20000 - 40000/annum 20-40K             30000  cv-library.co.uk  \n",
       "3  25000 - 30000/annum 25K-30K negotiable             27500  cv-library.co.uk  \n",
       "4              20000 - 30000/annum 20-30K             25000  cv-library.co.uk  "
      ]
     },
     "execution_count": 3,
     "metadata": {},
     "output_type": "execute_result"
    }
   ],
   "source": [
    "df = pd.read_csv('/Users/jiajue/Documents/McGill/Winter Term/INSY669/Assignments/Train_rev1.csv')\n",
    "\n",
    "# Brief look at data\n",
    "df.head()"
   ]
  },
  {
   "cell_type": "markdown",
   "metadata": {},
   "source": [
    "### Pre-processing"
   ]
  },
  {
   "cell_type": "code",
   "execution_count": 4,
   "metadata": {},
   "outputs": [
    {
     "name": "stdout",
     "output_type": "stream",
     "text": [
      "<class 'pandas.core.frame.DataFrame'>\n",
      "RangeIndex: 244768 entries, 0 to 244767\n",
      "Data columns (total 2 columns):\n",
      " #   Column           Non-Null Count   Dtype \n",
      "---  ------           --------------   ----- \n",
      " 0   FullDescription  244768 non-null  object\n",
      " 1   Salary_Category  244768 non-null  int64 \n",
      "dtypes: int64(1), object(1)\n",
      "memory usage: 3.7+ MB\n"
     ]
    }
   ],
   "source": [
    "# Descriptive stats of numerical data\n",
    "df.describe()\n",
    "\n",
    "# Create category for salary\n",
    "high_sal = df['SalaryNormalized'].quantile(0.75)\n",
    "df['Salary_Category'] = np.where(df['SalaryNormalized'] >= high_sal, 1, 0)\n",
    "\n",
    "# Retain relevant columns\n",
    "df = df[['FullDescription', 'Salary_Category']]\n",
    "df.info()"
   ]
  },
  {
   "cell_type": "markdown",
   "metadata": {},
   "source": [
    "### TFIDF Vectoriser & train test split"
   ]
  },
  {
   "cell_type": "code",
   "execution_count": 5,
   "metadata": {},
   "outputs": [],
   "source": [
    "# Sample 2500 data for training\n",
    "sample = df.sample(n=2500, random_state=5).reset_index(drop=True)\n",
    "\n",
    "# Define stopwords\n",
    "stop_words = set(stopwords.words('english'))\n",
    "\n",
    "# Initiate TFIDF vectoriser\n",
    "vectorizer = TfidfVectorizer()\n",
    "\n",
    "# Function to clean data\n",
    "def process_text(text):\n",
    "    text = text.lower()  # Convert to lowercase\n",
    "    text = re.sub(r'[^a-zA-Z\\s]', '', text)  # Remove special characters and punctuation\n",
    "    tokens = word_tokenize(text)  # Tokenization\n",
    "    lemmatizer = WordNetLemmatizer()\n",
    "    tokens = [lemmatizer.lemmatize(word) for word in tokens if word not in stop_words] # lemmatise and remove stopwords\n",
    "    return ' '.join(tokens) # join the words back into a single string\n",
    "\n",
    "sample['cleaned_jd'] = sample['FullDescription'].astype(str).apply(process_text)\n",
    "\n",
    "# Set up variables\n",
    "X = sample['cleaned_jd']\n",
    "y = sample['Salary_Category']\n",
    "\n",
    "# Train test split\n",
    "X_train, X_test, y_train, y_test = train_test_split(X, y, test_size=0.2, random_state=5, shuffle=True)\n",
    "\n",
    "X_train_tfidf = vectorizer.fit_transform(X_train) \n",
    "X_test_tfidf = vectorizer.transform(X_test)"
   ]
  },
  {
   "cell_type": "markdown",
   "metadata": {},
   "source": [
    "### Naive Bayes Classifier"
   ]
  },
  {
   "cell_type": "code",
   "execution_count": 39,
   "metadata": {},
   "outputs": [
    {
     "name": "stdout",
     "output_type": "stream",
     "text": [
      "Accuracy: 0.732\n",
      "              precision    recall  f1-score   support\n",
      "\n",
      "           0       0.73      1.00      0.85       366\n",
      "           1       0.00      0.00      0.00       134\n",
      "\n",
      "    accuracy                           0.73       500\n",
      "   macro avg       0.37      0.50      0.42       500\n",
      "weighted avg       0.54      0.73      0.62       500\n",
      "\n"
     ]
    },
    {
     "name": "stderr",
     "output_type": "stream",
     "text": [
      "/opt/anaconda3/lib/python3.12/site-packages/sklearn/metrics/_classification.py:1565: UndefinedMetricWarning: Precision is ill-defined and being set to 0.0 in labels with no predicted samples. Use `zero_division` parameter to control this behavior.\n",
      "  _warn_prf(average, modifier, f\"{metric.capitalize()} is\", len(result))\n",
      "/opt/anaconda3/lib/python3.12/site-packages/sklearn/metrics/_classification.py:1565: UndefinedMetricWarning: Precision is ill-defined and being set to 0.0 in labels with no predicted samples. Use `zero_division` parameter to control this behavior.\n",
      "  _warn_prf(average, modifier, f\"{metric.capitalize()} is\", len(result))\n",
      "/opt/anaconda3/lib/python3.12/site-packages/sklearn/metrics/_classification.py:1565: UndefinedMetricWarning: Precision is ill-defined and being set to 0.0 in labels with no predicted samples. Use `zero_division` parameter to control this behavior.\n",
      "  _warn_prf(average, modifier, f\"{metric.capitalize()} is\", len(result))\n"
     ]
    }
   ],
   "source": [
    "# Initialize and train a Naive Bayes classifier\n",
    "clf = MultinomialNB()\n",
    "clf.fit(X_train_tfidf, y_train)\n",
    "y_pred = clf.predict(X_test_tfidf)\n",
    "\n",
    "print('Accuracy:', accuracy_score(y_test, y_pred))\n",
    "print(classification_report(y_test,y_pred))"
   ]
  },
  {
   "cell_type": "markdown",
   "metadata": {},
   "source": [
    "### NB parameter tuning"
   ]
  },
  {
   "cell_type": "code",
   "execution_count": 47,
   "metadata": {},
   "outputs": [
    {
     "name": "stdout",
     "output_type": "stream",
     "text": [
      "Best Parameters: {'alpha': 0.1, 'fit_prior': True}\n",
      "Accuracy of tuned MNB: 0.778\n",
      "              precision    recall  f1-score   support\n",
      "\n",
      "           0       0.79      0.94      0.86       366\n",
      "           1       0.68      0.33      0.44       134\n",
      "\n",
      "    accuracy                           0.78       500\n",
      "   macro avg       0.74      0.64      0.65       500\n",
      "weighted avg       0.76      0.78      0.75       500\n",
      "\n"
     ]
    },
    {
     "data": {
      "image/png": "[encoded data removed]",
      "text/plain": [
       "<Figure size 500x500 with 2 Axes>"
      ]
     },
     "metadata": {},
     "output_type": "display_data"
    }
   ],
   "source": [
    "# Initialize the MNB model\n",
    "mnb = MultinomialNB()\n",
    "\n",
    "# Define the parameter grid\n",
    "param_grid = {\n",
    "    'alpha': [0.1, 0.5, 1.0, 2.0],  # regularisation\n",
    "    'fit_prior': [True, False]\n",
    "}\n",
    "\n",
    "# Set up GridSearchCV\n",
    "grid_search = GridSearchCV(estimator=mnb, param_grid=param_grid, cv=5, n_jobs=-1)\n",
    "grid_search.fit(X_train_tfidf, y_train)\n",
    "\n",
    "# Get the best parameters and model\n",
    "print(\"Best Parameters:\", grid_search.best_params_)\n",
    "mnb_best = grid_search.best_estimator_\n",
    "y_pred = mnb_best.predict(X_test_tfidf)\n",
    "\n",
    "# Evaluate the best model on the test set\n",
    "print(\"Accuracy of tuned MNB:\", accuracy_score(y_test, y_pred))\n",
    "print(classification_report(y_test,y_pred))\n",
    "\n",
    "plt.figure(figsize=(5,5))\n",
    "sns.heatmap(confusion_matrix(y_test, y_pred), annot=True, fmt='d', cmap='Blues')\n",
    "plt.title(\"Confusion Matrix using MNB and TF-IDF Vectorizer\")\n",
    "plt.show()"
   ]
  },
  {
   "cell_type": "markdown",
   "metadata": {},
   "source": [
    "### Support Vector Machine"
   ]
  },
  {
   "cell_type": "code",
   "execution_count": 45,
   "metadata": {},
   "outputs": [
    {
     "name": "stdout",
     "output_type": "stream",
     "text": [
      "Accuracy: 0.794\n",
      "              precision    recall  f1-score   support\n",
      "\n",
      "           0       0.83      0.91      0.87       366\n",
      "           1       0.66      0.48      0.55       134\n",
      "\n",
      "    accuracy                           0.79       500\n",
      "   macro avg       0.74      0.69      0.71       500\n",
      "weighted avg       0.78      0.79      0.78       500\n",
      "\n"
     ]
    }
   ],
   "source": [
    "# Initialize and train SVM classifier\n",
    "svm = SVC(kernel='linear')  \n",
    "svm.fit(X_train_tfidf, y_train)\n",
    "\n",
    "# Predictions\n",
    "y_pred_svm = svm.predict(X_test_tfidf)\n",
    "print('Accuracy:', accuracy_score(y_test, y_pred_svm))\n",
    "print(classification_report(y_test, y_pred_svm))"
   ]
  },
  {
   "cell_type": "markdown",
   "metadata": {},
   "source": [
    "#### SVM Hyperparameter tuning"
   ]
  },
  {
   "cell_type": "code",
   "execution_count": 15,
   "metadata": {},
   "outputs": [
    {
     "name": "stdout",
     "output_type": "stream",
     "text": [
      "Fitting 5 folds for each of 6 candidates, totalling 30 fits\n",
      "Best parameters found:  {'C': 1, 'kernel': 'linear'}\n",
      "Accuracy: 0.794\n",
      "              precision    recall  f1-score   support\n",
      "\n",
      "           0       0.83      0.91      0.87       366\n",
      "           1       0.66      0.48      0.55       134\n",
      "\n",
      "    accuracy                           0.79       500\n",
      "   macro avg       0.74      0.69      0.71       500\n",
      "weighted avg       0.78      0.79      0.78       500\n",
      "\n"
     ]
    },
    {
     "data": {
      "image/png": "[encoded data removed]",
      "text/plain": [
       "<Figure size 500x500 with 2 Axes>"
      ]
     },
     "metadata": {},
     "output_type": "display_data"
    }
   ],
   "source": [
    "# Set up the parameter grid for tuning\n",
    "param_grid = {\n",
    "    'C': [0.01, 0.1, 1, 10, 50, 100],  # Regularization \n",
    "    'kernel': ['linear']  # Kernel\n",
    "}\n",
    "\n",
    "# Initialize the SVM model\n",
    "svm = SVC()\n",
    "\n",
    "# Set up GridSearchCV\n",
    "grid_search = GridSearchCV(svm, param_grid, cv=5, verbose=1, n_jobs=-1)\n",
    "\n",
    "# Fit GridSearchCV to training data\n",
    "grid_search.fit(X_train_tfidf, y_train)\n",
    "\n",
    "# Print the best parameters found\n",
    "print(\"Best parameters found: \", grid_search.best_params_)\n",
    "\n",
    "# Get the best model\n",
    "best_svm = grid_search.best_estimator_\n",
    "\n",
    "# Predictions with the best model\n",
    "y_pred_svm = best_svm.predict(X_test_tfidf)\n",
    "\n",
    "# Print accuracy and classification report\n",
    "print('Accuracy:', accuracy_score(y_test, y_pred_svm))\n",
    "print(classification_report(y_test, y_pred_svm))\n",
    "\n",
    "# Confusion Matrix\n",
    "plt.figure(figsize=(5,5))\n",
    "sns.heatmap(confusion_matrix(y_test, y_pred_svm), annot=True, fmt='d', cmap='Blues')\n",
    "plt.title(\"Confusion Matrix using tuned SVM\")\n",
    "plt.show()"
   ]
  },
  {
   "cell_type": "markdown",
   "metadata": {},
   "source": [
    "### KNN Classifier"
   ]
  },
  {
   "cell_type": "code",
   "execution_count": 34,
   "metadata": {},
   "outputs": [
    {
     "name": "stdout",
     "output_type": "stream",
     "text": [
      "Accuracy: 0.75\n",
      "              precision    recall  f1-score   support\n",
      "\n",
      "           0       0.81      0.86      0.83       366\n",
      "           1       0.54      0.45      0.49       134\n",
      "\n",
      "    accuracy                           0.75       500\n",
      "   macro avg       0.68      0.65      0.66       500\n",
      "weighted avg       0.74      0.75      0.74       500\n",
      "\n"
     ]
    }
   ],
   "source": [
    "# Initialize KNN classifier\n",
    "knn = KNeighborsClassifier(n_neighbors=3) \n",
    "\n",
    "# Train the KNN classifier\n",
    "knn.fit(X_train_tfidf, y_train)\n",
    "\n",
    "# Make predictions\n",
    "y_pred = knn.predict(X_test_tfidf)\n",
    "\n",
    "# Evaluate the model\n",
    "print(\"Accuracy:\", accuracy_score(y_test, y_pred))\n",
    "print(classification_report(y_test, y_pred))"
   ]
  },
  {
   "cell_type": "markdown",
   "metadata": {},
   "source": [
    "### KNN parameter tuning"
   ]
  },
  {
   "cell_type": "code",
   "execution_count": 36,
   "metadata": {},
   "outputs": [
    {
     "name": "stdout",
     "output_type": "stream",
     "text": [
      "Fitting 5 folds for each of 30 candidates, totalling 150 fits\n",
      "Best Parameters: {'weights': 'distance', 'p': 1, 'n_neighbors': 5, 'metric': 'cosine', 'leaf_size': 10, 'algorithm': 'brute'}\n",
      "Accuracy: 0.766\n",
      "              precision    recall  f1-score   support\n",
      "\n",
      "           0       0.82      0.88      0.85       366\n",
      "           1       0.58      0.46      0.51       134\n",
      "\n",
      "    accuracy                           0.77       500\n",
      "   macro avg       0.70      0.67      0.68       500\n",
      "weighted avg       0.75      0.77      0.76       500\n",
      "\n"
     ]
    },
    {
     "data": {
      "image/png": "[encoded data removed]",
      "text/plain": [
       "<Figure size 500x500 with 2 Axes>"
      ]
     },
     "metadata": {},
     "output_type": "display_data"
    }
   ],
   "source": [
    "# Define the hyperparameter grid\n",
    "param_grid = {\n",
    "    'n_neighbors': [3, 5, 7, 10, 15],\n",
    "    'metric': ['euclidean', 'manhattan', 'cosine'],\n",
    "    'weights': ['uniform', 'distance'],\n",
    "    'algorithm': ['brute'],\n",
    "    'leaf_size': [10, 20, 30],\n",
    "    'p': [1, 2]\n",
    "}\n",
    "\n",
    "# Set up the search with KNN classifier\n",
    "knn = KNeighborsClassifier()\n",
    "random_search = RandomizedSearchCV(knn, param_grid, n_iter=30, cv=5, n_jobs=-1, verbose=1)\n",
    "\n",
    "# Fit search\n",
    "random_search.fit(X_train_tfidf, y_train)\n",
    "\n",
    "# Get the best parameters and model\n",
    "print(\"Best Parameters:\", random_search.best_params_)\n",
    "knn_best = random_search.best_estimator_\n",
    "\n",
    "# Predict using the best model\n",
    "y_pred_best = knn_best.predict(X_test_tfidf)\n",
    "\n",
    "# Evaluate the best model\n",
    "print('Accuracy:', accuracy_score(y_test, y_pred_best))\n",
    "print(classification_report(y_test, y_pred_best))\n",
    "\n",
    "# Confusion Matrix\n",
    "plt.figure(figsize=(5,5))\n",
    "sns.heatmap(confusion_matrix(y_test, y_pred_best), annot=True, fmt='d', cmap='Blues')\n",
    "plt.title(\"Confusion Matrix using Tuned KNN\")\n",
    "plt.show()"
   ]
  },
  {
   "cell_type": "markdown",
   "metadata": {},
   "source": [
    "### Extracting words that are indicative of salary range"
   ]
  },
  {
   "cell_type": "code",
   "execution_count": 46,
   "metadata": {},
   "outputs": [
    {
     "name": "stdout",
     "output_type": "stream",
     "text": [
      "\n",
      "Top 10 features for high salary:\n",
      "               high        low      diff\n",
      "trading   -8.268076  -9.510101  1.242025\n",
      "presales  -8.813657 -10.020053  1.206396\n",
      "cima      -8.834716 -10.002416  1.167699\n",
      "architect -8.611378  -9.741839  1.130461\n",
      "scom      -9.170425 -10.236047  1.065622\n",
      "fico      -9.173423 -10.236047  1.062624\n",
      "lync      -9.174572 -10.236047  1.061475\n",
      "plsql     -9.176344 -10.236047  1.059703\n",
      "locum     -8.681662  -9.729107  1.047445\n",
      "offshore  -8.723083  -9.751888  1.028805\n",
      "\n",
      "Top 10 features for low salary:\n",
      "                high       low      diff\n",
      "teaching   -9.381580 -7.810360 -1.571219\n",
      "technician -9.705751 -8.080875 -1.624877\n",
      "vehicle    -9.639806 -8.005423 -1.634382\n",
      "pm         -9.473857 -7.812597 -1.661260\n",
      "hour       -8.754721 -7.086164 -1.668556\n",
      "hotel      -9.733265 -7.959664 -1.773601\n",
      "graduate   -9.422278 -7.473207 -1.949071\n",
      "assistant  -9.756697 -7.532365 -2.224332\n",
      "school     -9.560299 -7.286847 -2.273452\n",
      "teacher    -9.868790 -7.403753 -2.465037\n"
     ]
    }
   ],
   "source": [
    "# Get log probabilities for both classes\n",
    "log_probs = clf.feature_log_prob_\n",
    "\n",
    "# Get feature names\n",
    "feature_names = vectorizer.get_feature_names_out()\n",
    "\n",
    "# Store feature names and log probabilities\n",
    "feature_prob = pd.DataFrame({\n",
    "    'high': log_probs[1],\n",
    "    'low': log_probs[0]\n",
    "}, index=feature_names)\n",
    "\n",
    "# Calculate the difference between log probabilities for high and low salary\n",
    "feature_prob['diff'] = feature_prob['high'] - feature_prob['low']\n",
    "\n",
    "# Sort the features by the difference in log probabilities (descending)\n",
    "feature_prob = feature_prob.sort_values('diff', ascending=False)\n",
    "\n",
    "# Get the top 10 words for high salary and low salary\n",
    "top_high_salary_words = feature_prob.head(10)\n",
    "top_low_salary_words = feature_prob.tail(10)\n",
    "\n",
    "print(\"\\nTop 10 features for high salary:\")\n",
    "print(top_high_salary_words)\n",
    "\n",
    "print(\"\\nTop 10 features for low salary:\")\n",
    "print(top_low_salary_words)"
   ]
  },
  {
   "cell_type": "markdown",
   "metadata": {},
   "source": [
    "After testing and tuning 3 models - Multinomial Naives Bayes, SVM and KNN, the best performing one was that of **SVM**. Interestingly, there was no difference in performance between the base model and the tuned model. \n",
    "\n",
    "That said, it must be acknowledged that the number of hyperparameters tuned for SVM are rather limited, as the linear kernel is typically well-suited for text data like this scenario. Thus, the only parameter that was tuned was alpha. The SVM model was chosen for following reasons (refer to confusion matrix above):\n",
    "1. Highest accuracy (0.794)\n",
    "2. Best balance of recall and precision for jobs with high salary range\n",
    "\n",
    "In terms of improvement to performance, it is worthy to note that Naives Bayes saw the greatest leap from parameter tuning -- accuracy improved by 4.6%, and the recall and precision scores for high salary range markedly improved from 0. \n",
    "\n",
    "In terms of the words that are most indicative of high and low salaries, the words with the greatest difference in probabilities for each class were extracted rather than simply looking at the words that had the highest probability of appearing in each class. This is to ensure that the words identified had the highest contrast between the salary categories, and to avoid scenario with overlaps between the 2 categories. \n",
    "\n",
    "Thus, words indicative of high salary: trading, presales, cima, architect, scom, fico, lync, plsql, locum, offshore. These words are indicative of roles in the finance industry, or in professional roles that require more specific skillsets, contributing to overall higher salaries.\n",
    "\n",
    "Words indicative of low salary: teaching, technician, vehicle, pm, hour, hotel, graduate, assistant, school, teacher. These words on the other hand, is strongly suggestive that the education sector and the service industries are not as highly paied as the finance industry, which aligns with societal standards, considering that the finance industry is 'high risk high reward'. Words like hour, and graduate point to entry level positions, further explaining why these jobs are lower paid."
   ]
  }
 ],
 "metadata": {
  "kernelspec": {
   "display_name": "base",
   "language": "python",
   "name": "python3"
  },
  "language_info": {
   "codemirror_mode": {
    "name": "ipython",
    "version": 3
   },
   "file_extension": ".py",
   "mimetype": "text/x-python",
   "name": "python",
   "nbconvert_exporter": "python",
   "pygments_lexer": "ipython3",
   "version": "3.12.3"
  }
 },
 "nbformat": 4,
 "nbformat_minor": 2
}
